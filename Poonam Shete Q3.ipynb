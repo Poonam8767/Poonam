{
 "cells": [
  {
   "cell_type": "code",
   "execution_count": 1,
   "id": "d5f3cb9c-b31e-460b-b675-1de60536f38e",
   "metadata": {},
   "outputs": [],
   "source": [
    "#Q3\n",
    "import numpy as np\n",
    "import sympy as sp"
   ]
  },
  {
   "cell_type": "code",
   "execution_count": 2,
   "id": "658dbf49-cbc8-4bb4-b771-81253b5fbc08",
   "metadata": {},
   "outputs": [
    {
     "data": {
      "text/latex": [
       "$\\displaystyle \\left[\\begin{matrix}3 & 0 & 5 & 3 & 4\\\\9 & 8 & 1 & 5 & 9\\\\6 & 8 & 7 & 8 & 5\\\\2 & 8 & 1 & 6 & 4\\\\8 & 4 & 6 & 4 & 9\\end{matrix}\\right]$"
      ],
      "text/plain": [
       "Matrix([\n",
       "[3, 0, 5, 3, 4],\n",
       "[9, 8, 1, 5, 9],\n",
       "[6, 8, 7, 8, 5],\n",
       "[2, 8, 1, 6, 4],\n",
       "[8, 4, 6, 4, 9]])"
      ]
     },
     "execution_count": 2,
     "metadata": {},
     "output_type": "execute_result"
    }
   ],
   "source": [
    "A=np.array([[3, 0, 5, 3, 4],[9, 8, 1, 5, 9],[6, 8, 7, 8, 5],[2, 8, 1, 6, 4],[8, 4, 6, 4, 9]])\n",
    "sp.Matrix(A)"
   ]
  },
  {
   "cell_type": "code",
   "execution_count": 3,
   "id": "457443dc-eb0e-4a00-b7c6-c131ece5c192",
   "metadata": {},
   "outputs": [
    {
     "data": {
      "text/latex": [
       "$\\displaystyle \\left[\\begin{matrix}0 & 0 & 0 & 0 & -1.0\\\\-1.0 & 0 & 1.0 & 0 & 0\\\\-1.0 & 0 & -1.0 & -1.0 & 0\\\\0 & 1.0 & 0 & 1.0 & 0\\\\0 & -1.0 & 0 & 0 & 1.0\\end{matrix}\\right]$"
      ],
      "text/plain": [
       "Matrix([\n",
       "[   0,    0,    0,    0, -1.0],\n",
       "[-1.0,    0,  1.0,    0,    0],\n",
       "[-1.0,    0, -1.0, -1.0,    0],\n",
       "[   0,  1.0,    0,  1.0,    0],\n",
       "[   0, -1.0,    0,    0,  1.0]])"
      ]
     },
     "execution_count": 3,
     "metadata": {},
     "output_type": "execute_result"
    }
   ],
   "source": [
    "U,s,Vt=np.linalg.svd(A)\n",
    "sp.Matrix(np.round(U))"
   ]
  },
  {
   "cell_type": "code",
   "execution_count": 4,
   "id": "22752e73-c644-4447-90b4-b62a6bf87c69",
   "metadata": {},
   "outputs": [
    {
     "data": {
      "text/plain": [
       "array([27.9290254 ,  7.67022851,  6.33715027,  1.82163458,  0.81197818])"
      ]
     },
     "execution_count": 4,
     "metadata": {},
     "output_type": "execute_result"
    }
   ],
   "source": [
    "s"
   ]
  },
  {
   "cell_type": "code",
   "execution_count": 5,
   "id": "6131124b-fe0c-42d4-a81e-9829bb57319a",
   "metadata": {},
   "outputs": [
    {
     "data": {
      "text/latex": [
       "$\\displaystyle \\left[\\begin{matrix}0 & 0 & 0 & 0 & -1.0\\\\0 & 1.0 & -1.0 & 0 & 0\\\\0 & 0 & -1.0 & 0 & 0\\\\-1.0 & 0 & 0 & 0 & 1.0\\\\0 & 1.0 & 0 & -1.0 & 0\\end{matrix}\\right]$"
      ],
      "text/plain": [
       "Matrix([\n",
       "[   0,   0,    0,    0, -1.0],\n",
       "[   0, 1.0, -1.0,    0,    0],\n",
       "[   0,   0, -1.0,    0,    0],\n",
       "[-1.0,   0,    0,    0,  1.0],\n",
       "[   0, 1.0,    0, -1.0,    0]])"
      ]
     },
     "execution_count": 5,
     "metadata": {},
     "output_type": "execute_result"
    }
   ],
   "source": [
    "sp.Matrix(np.round(Vt))"
   ]
  },
  {
   "cell_type": "code",
   "execution_count": 6,
   "id": "3d6565e0-20bf-44d0-ab08-5e400996e602",
   "metadata": {},
   "outputs": [
    {
     "data": {
      "text/latex": [
       "$\\displaystyle \\left[\\begin{matrix}0 & 0 & 0 & 0 & 0\\\\0 & 0 & 0 & 0 & 0\\\\0 & 0 & 0 & 0 & 0\\\\0 & 0 & 0 & 0 & 0\\\\0 & 0 & 0 & 0 & 0\\end{matrix}\\right]$"
      ],
      "text/plain": [
       "Matrix([\n",
       "[0, 0, 0, 0, 0],\n",
       "[0, 0, 0, 0, 0],\n",
       "[0, 0, 0, 0, 0],\n",
       "[0, 0, 0, 0, 0],\n",
       "[0, 0, 0, 0, 0]])"
      ]
     },
     "execution_count": 6,
     "metadata": {},
     "output_type": "execute_result"
    }
   ],
   "source": [
    "Sigma=np.zeros((A.shape[0],A.shape[1]))\n",
    "sp.Matrix(Sigma)"
   ]
  },
  {
   "cell_type": "code",
   "execution_count": 7,
   "id": "f4177b7e-9eba-48bb-99ea-658c6d1906a2",
   "metadata": {},
   "outputs": [
    {
     "data": {
      "text/latex": [
       "$\\displaystyle \\left[\\begin{matrix}27.9290254047285 & 0 & 0 & 0 & 0\\\\0 & 7.67022850710491 & 0 & 0 & 0\\\\0 & 0 & 6.33715026570312 & 0 & 0\\\\0 & 0 & 0 & 1.82163457840739 & 0\\\\0 & 0 & 0 & 0 & 0.811978179187086\\end{matrix}\\right]$"
      ],
      "text/plain": [
       "Matrix([\n",
       "[27.9290254047285,                0,                0,                0,                 0],\n",
       "[               0, 7.67022850710491,                0,                0,                 0],\n",
       "[               0,                0, 6.33715026570312,                0,                 0],\n",
       "[               0,                0,                0, 1.82163457840739,                 0],\n",
       "[               0,                0,                0,                0, 0.811978179187086]])"
      ]
     },
     "execution_count": 7,
     "metadata": {},
     "output_type": "execute_result"
    }
   ],
   "source": [
    "Sigma[:A.shape[1],:A.shape[0]]=np.diag(s)\n",
    "sp.Matrix(Sigma)"
   ]
  },
  {
   "cell_type": "code",
   "execution_count": 8,
   "id": "240d2392-abf6-44eb-9efd-6c7ec11fe78e",
   "metadata": {},
   "outputs": [
    {
     "data": {
      "text/latex": [
       "$\\displaystyle \\left[\\begin{matrix}-0.481880730010018 & -0.479061475389366 & -0.31298719339321 & -0.420076663044425 & -0.513678575356299\\\\-0.292815898657011 & 0.698373102700953 & -0.529139302127715 & 0.267986108436551 & -0.273365878533439\\\\0.39545897220078 & -0.0217254400595213 & -0.687638136922587 & -0.435826984282896 & 0.424674980403405\\\\-0.671359565969866 & -0.177710507973223 & -0.101569395148785 & 0.220061831769867 & 0.677459782351582\\\\-0.273748691367382 & 0.500721572165337 & 0.372676892675652 & -0.716482151082259 & 0.14867690469296\\end{matrix}\\right]$"
      ],
      "text/plain": [
       "Matrix([\n",
       "[-0.481880730010018,  -0.479061475389366,  -0.31298719339321, -0.420076663044425, -0.513678575356299],\n",
       "[-0.292815898657011,   0.698373102700953, -0.529139302127715,  0.267986108436551, -0.273365878533439],\n",
       "[  0.39545897220078, -0.0217254400595213, -0.687638136922587, -0.435826984282896,  0.424674980403405],\n",
       "[-0.671359565969866,  -0.177710507973223, -0.101569395148785,  0.220061831769867,  0.677459782351582],\n",
       "[-0.273748691367382,   0.500721572165337,  0.372676892675652, -0.716482151082259,   0.14867690469296]])"
      ]
     },
     "execution_count": 8,
     "metadata": {},
     "output_type": "execute_result"
    }
   ],
   "source": [
    "sp.Matrix(Vt)"
   ]
  },
  {
   "cell_type": "code",
   "execution_count": 9,
   "id": "171eca94-3695-4cea-a7b3-017fb0925d31",
   "metadata": {},
   "outputs": [
    {
     "data": {
      "text/latex": [
       "$\\displaystyle \\left[\\begin{matrix}3.0 & 0 & 5.0 & 3.0 & 4.0\\\\9.0 & 8.0 & 1.0 & 5.0 & 9.0\\\\6.0 & 8.0 & 7.0 & 8.0 & 5.0\\\\2.0 & 8.0 & 1.0 & 6.0 & 4.0\\\\8.0 & 4.0 & 6.0 & 4.0 & 9.0\\end{matrix}\\right]$"
      ],
      "text/plain": [
       "Matrix([\n",
       "[3.0,   0, 5.0, 3.0, 4.0],\n",
       "[9.0, 8.0, 1.0, 5.0, 9.0],\n",
       "[6.0, 8.0, 7.0, 8.0, 5.0],\n",
       "[2.0, 8.0, 1.0, 6.0, 4.0],\n",
       "[8.0, 4.0, 6.0, 4.0, 9.0]])"
      ]
     },
     "execution_count": 9,
     "metadata": {},
     "output_type": "execute_result"
    }
   ],
   "source": [
    "K=U@Sigma@Vt\n",
    "sp.Matrix(np.round(K))"
   ]
  },
  {
   "cell_type": "code",
   "execution_count": null,
   "id": "32c5fdd0-8bb7-4aeb-b1fa-6c0aaaba1183",
   "metadata": {},
   "outputs": [],
   "source": []
  }
 ],
 "metadata": {
  "kernelspec": {
   "display_name": "Python 3 (ipykernel)",
   "language": "python",
   "name": "python3"
  },
  "language_info": {
   "codemirror_mode": {
    "name": "ipython",
    "version": 3
   },
   "file_extension": ".py",
   "mimetype": "text/x-python",
   "name": "python",
   "nbconvert_exporter": "python",
   "pygments_lexer": "ipython3",
   "version": "3.11.7"
  }
 },
 "nbformat": 4,
 "nbformat_minor": 5
}
