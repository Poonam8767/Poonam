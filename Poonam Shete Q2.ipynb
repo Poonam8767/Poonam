{
 "cells": [
  {
   "cell_type": "code",
   "execution_count": 1,
   "id": "c21f9b18-adec-4a6d-b0de-a81caa28dbd9",
   "metadata": {},
   "outputs": [],
   "source": [
    "import numpy as np\n",
    "import sympy as sp"
   ]
  },
  {
   "cell_type": "code",
   "execution_count": 2,
   "id": "5582bbfe-0d43-4ea3-b547-a592cb5e7e64",
   "metadata": {},
   "outputs": [
    {
     "data": {
      "text/plain": [
       "array([[3, 0, 5, 3, 4],\n",
       "       [9, 8, 1, 5, 9],\n",
       "       [6, 8, 7, 8, 5],\n",
       "       [2, 8, 1, 6, 4],\n",
       "       [8, 4, 6, 4, 9]])"
      ]
     },
     "execution_count": 2,
     "metadata": {},
     "output_type": "execute_result"
    }
   ],
   "source": [
    "#Q2.\n",
    "np.random.seed(45)\n",
    "A=np.random.randint(0,10,(5,5))\n",
    "A"
   ]
  },
  {
   "cell_type": "code",
   "execution_count": 3,
   "id": "bbee1a77-18f7-4559-ba39-a71c82e3b192",
   "metadata": {},
   "outputs": [
    {
     "data": {
      "text/plain": [
       "array([[1, 0, 1, 1, 1],\n",
       "       [9, 8, 1, 5, 9],\n",
       "       [6, 8, 7, 8, 5],\n",
       "       [2, 8, 1, 6, 4],\n",
       "       [8, 4, 6, 4, 9]])"
      ]
     },
     "execution_count": 3,
     "metadata": {},
     "output_type": "execute_result"
    }
   ],
   "source": [
    "A=np.array([[3, 0, 5, 3, 4],[9, 8, 1, 5, 9],[6, 8, 7, 8, 5],[2, 8, 1, 6, 4],[8, 4, 6, 4, 9]])\n",
    "A[0]=A[0]/3\n",
    "A"
   ]
  },
  {
   "cell_type": "code",
   "execution_count": 4,
   "id": "f57c52f5-0e64-4ff8-9527-30951774c4d6",
   "metadata": {},
   "outputs": [
    {
     "data": {
      "text/plain": [
       "array([[ 1,  0,  1,  1,  1],\n",
       "       [ 0,  8, -8, -4,  0],\n",
       "       [ 0,  8,  1,  2, -1],\n",
       "       [ 0,  8, -1,  4,  2],\n",
       "       [ 0,  4, -2, -4,  1]])"
      ]
     },
     "execution_count": 4,
     "metadata": {},
     "output_type": "execute_result"
    }
   ],
   "source": [
    "A[1]=A[1]-9*A[0]\n",
    "A[2]=A[2]-6*A[0]\n",
    "A[3]=A[3]-2*A[0]\n",
    "A[4]=A[4]-8*A[0]\n",
    "A"
   ]
  },
  {
   "cell_type": "code",
   "execution_count": 5,
   "id": "63d4607b-bfc0-440c-8612-01ff724143e5",
   "metadata": {},
   "outputs": [
    {
     "data": {
      "text/plain": [
       "array([[ 1,  0,  1,  1,  1],\n",
       "       [ 0,  1, -1,  0,  0],\n",
       "       [ 0,  8,  1,  2, -1],\n",
       "       [ 0,  8, -1,  4,  2],\n",
       "       [ 0,  4, -2, -4,  1]])"
      ]
     },
     "execution_count": 5,
     "metadata": {},
     "output_type": "execute_result"
    }
   ],
   "source": [
    "A[1]=A[1]/8\n",
    "A"
   ]
  },
  {
   "cell_type": "code",
   "execution_count": 6,
   "id": "924efc48-b927-477f-9403-3c4a67b2330b",
   "metadata": {},
   "outputs": [
    {
     "data": {
      "text/plain": [
       "array([[ 1,  0,  1,  1,  1],\n",
       "       [ 0,  1, -1,  0,  0],\n",
       "       [ 0,  0,  9,  2, -1],\n",
       "       [ 0,  0,  7,  4,  2],\n",
       "       [ 0,  0,  2, -4,  1]])"
      ]
     },
     "execution_count": 6,
     "metadata": {},
     "output_type": "execute_result"
    }
   ],
   "source": [
    "A[2]=A[2]-8*A[1]\n",
    "A[3]=A[3]-8*A[1]\n",
    "A[4]=A[4]-4*A[1]\n",
    "A"
   ]
  },
  {
   "cell_type": "code",
   "execution_count": 7,
   "id": "95dc4c97-022f-4e02-b3b5-260c0256883d",
   "metadata": {},
   "outputs": [
    {
     "data": {
      "text/plain": [
       "array([[ 1,  0,  1,  1,  1],\n",
       "       [ 0,  1, -1,  0,  0],\n",
       "       [ 0,  0,  1,  0,  0],\n",
       "       [ 0,  0,  7,  4,  2],\n",
       "       [ 0,  0,  2, -4,  1]])"
      ]
     },
     "execution_count": 7,
     "metadata": {},
     "output_type": "execute_result"
    }
   ],
   "source": [
    "A[2]=A[2]/9\n",
    "A"
   ]
  },
  {
   "cell_type": "code",
   "execution_count": 8,
   "id": "f3d6cb8f-a495-4c45-8590-05ee9450daf9",
   "metadata": {},
   "outputs": [
    {
     "data": {
      "text/plain": [
       "array([[ 1,  0,  1,  1,  1],\n",
       "       [ 0,  1, -1,  0,  0],\n",
       "       [ 0,  0,  1,  0,  0],\n",
       "       [ 0,  0,  0,  4,  2],\n",
       "       [ 0,  0,  0, -4,  1]])"
      ]
     },
     "execution_count": 8,
     "metadata": {},
     "output_type": "execute_result"
    }
   ],
   "source": [
    "A[3]=A[3]-7*A[2]\n",
    "A[4]=A[4]-2*A[2]\n",
    "A"
   ]
  },
  {
   "cell_type": "code",
   "execution_count": 9,
   "id": "9e271646-fcd2-49ec-8540-9793faf8a822",
   "metadata": {},
   "outputs": [
    {
     "data": {
      "text/plain": [
       "array([[ 1,  0,  1,  1,  1],\n",
       "       [ 0,  1, -1,  0,  0],\n",
       "       [ 0,  0,  1,  0,  0],\n",
       "       [ 0,  0,  0,  1,  0],\n",
       "       [ 0,  0,  0, -4,  1]])"
      ]
     },
     "execution_count": 9,
     "metadata": {},
     "output_type": "execute_result"
    }
   ],
   "source": [
    "A[3]=A[3]/4\n",
    "A"
   ]
  },
  {
   "cell_type": "code",
   "execution_count": 10,
   "id": "e078fdce-4f98-417f-b888-16d7cb14dc0d",
   "metadata": {},
   "outputs": [
    {
     "data": {
      "text/plain": [
       "array([[ 1,  0,  1,  1,  1],\n",
       "       [ 0,  1, -1,  0,  0],\n",
       "       [ 0,  0,  1,  0,  0],\n",
       "       [ 0,  0,  0,  1,  0],\n",
       "       [ 0,  0,  0,  0,  1]])"
      ]
     },
     "execution_count": 10,
     "metadata": {},
     "output_type": "execute_result"
    }
   ],
   "source": [
    "A[4]=A[4]+4*A[3]\n",
    "A"
   ]
  },
  {
   "cell_type": "code",
   "execution_count": null,
   "id": "c56875c7-4617-4533-96cd-43d33eda5e26",
   "metadata": {},
   "outputs": [],
   "source": []
  },
  {
   "cell_type": "code",
   "execution_count": null,
   "id": "67c80857-1dfd-4b48-8ba8-1abdefac24e8",
   "metadata": {},
   "outputs": [],
   "source": []
  },
  {
   "cell_type": "code",
   "execution_count": null,
   "id": "3e699314-2a76-48a9-8c44-56bce1035439",
   "metadata": {},
   "outputs": [],
   "source": []
  }
 ],
 "metadata": {
  "kernelspec": {
   "display_name": "Python 3 (ipykernel)",
   "language": "python",
   "name": "python3"
  },
  "language_info": {
   "codemirror_mode": {
    "name": "ipython",
    "version": 3
   },
   "file_extension": ".py",
   "mimetype": "text/x-python",
   "name": "python",
   "nbconvert_exporter": "python",
   "pygments_lexer": "ipython3",
   "version": "3.11.7"
  }
 },
 "nbformat": 4,
 "nbformat_minor": 5
}
